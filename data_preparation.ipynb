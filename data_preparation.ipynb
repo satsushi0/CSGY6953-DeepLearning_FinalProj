{
  "nbformat": 4,
  "nbformat_minor": 0,
  "metadata": {
    "colab": {
      "provenance": []
    },
    "kernelspec": {
      "name": "python3",
      "display_name": "Python 3"
    },
    "language_info": {
      "name": "python"
    }
  },
  "cells": [
    {
      "cell_type": "markdown",
      "source": [
        "# CSGY 6953 Deep Learning Final Project\n",
        "In this project, we will implement a dual-encoder model for image search. In particular, our model will be fed a text query and will return several images that are related to the query. To do this task, our model will be trained so that it embeds both image and text data into the same space, and importantly, encodes relevant data to be close each other in the embedding space. This will be done by developing two encoders, one for image processing and the other for text encoding, and training them by a similarity-based loss function. <br>\n",
        "<br>\n",
        "In this notebook, I download the COCO image data to my Google drive, construct the dataset for training the dual-encoder."
      ],
      "metadata": {
        "id": "0X9z8S3BrPmQ"
      }
    },
    {
      "cell_type": "code",
      "execution_count": null,
      "metadata": {
        "id": "xauQMehjrPF2"
      },
      "outputs": [],
      "source": [
        "import numpy as np\n",
        "import matplotlib.pyplot as plt\n",
        "\n",
        "import requests\n",
        "import json\n",
        "import cv2\n",
        "import random\n",
        "import tqdm\n",
        "import pickle"
      ]
    },
    {
      "cell_type": "code",
      "source": [
        "from google.colab import drive\n",
        "drive.mount('/content/drive')"
      ],
      "metadata": {
        "colab": {
          "base_uri": "https://localhost:8080/"
        },
        "id": "DykGTkYWrU--",
        "outputId": "18128ed1-dd04-49ac-cf85-c1d2d4c90b2a"
      },
      "execution_count": null,
      "outputs": [
        {
          "output_type": "stream",
          "name": "stdout",
          "text": [
            "Mounted at /content/drive\n"
          ]
        }
      ]
    },
    {
      "cell_type": "code",
      "source": [
        "with open(\"drive/My Drive/finalproj/data/nocaps_val_4500_captions.json\", \"r\") as f:\n",
        "    captions = json.load(f)"
      ],
      "metadata": {
        "id": "cmp96HevrWNv"
      },
      "execution_count": null,
      "outputs": []
    },
    {
      "cell_type": "code",
      "source": [
        "# Downloading all the images to Google drive. It takes approx. 2 hours.\n",
        "for image in tqdm.tqdm(captions[\"images\"]):\n",
        "    img = requests.get(image[\"coco_url\"]).content\n",
        "    with open(\"drive/My Drive/finalproj/data/images/\"+str(image[\"id\"]), \"wb\") as handler:\n",
        "        handler.write(img)"
      ],
      "metadata": {
        "id": "-BFCSbM9rdLj"
      },
      "execution_count": null,
      "outputs": []
    },
    {
      "cell_type": "code",
      "source": [
        "image_size = (299, 299)\n",
        "images = []\n",
        "for i in tqdm.tqdm(range(captions[\"images\"][-1][\"id\"]+1)):\n",
        "    images.append(cv2.resize(cv2.imread(\"drive/My Drive/finalproj/data/images/\"+str(i)), image_size))"
      ],
      "metadata": {
        "colab": {
          "base_uri": "https://localhost:8080/"
        },
        "id": "lT0YL7WCrr4d",
        "outputId": "004ba5f6-16b6-45b4-fab6-bdb68a62fbdd"
      },
      "execution_count": null,
      "outputs": [
        {
          "output_type": "stream",
          "name": "stderr",
          "text": [
            "100%|██████████| 4500/4500 [29:30<00:00,  2.54it/s]\n"
          ]
        }
      ]
    },
    {
      "cell_type": "code",
      "source": [
        "texts = []\n",
        "for dic in tqdm.tqdm(captions[\"annotations\"]):\n",
        "    texts.append(dic[\"caption\"])"
      ],
      "metadata": {
        "colab": {
          "base_uri": "https://localhost:8080/"
        },
        "id": "TzlwedqgrmLO",
        "outputId": "75fab1ab-8bb8-4c8f-ae05-394813a64070"
      },
      "execution_count": null,
      "outputs": [
        {
          "output_type": "stream",
          "name": "stderr",
          "text": [
            "100%|██████████| 45000/45000 [00:00<00:00, 957924.42it/s]\n"
          ]
        }
      ]
    },
    {
      "cell_type": "code",
      "source": [
        "with open(f\"drive/My Drive/finalproj/data/dataset.pkl\", \"wb\") as f:\n",
        "    pickle.dump({\"images\": images, \"texts\": texts}, f)"
      ],
      "metadata": {
        "id": "kfls1julthIz"
      },
      "execution_count": null,
      "outputs": []
    },
    {
      "cell_type": "code",
      "source": [],
      "metadata": {
        "id": "DQdUjYzp0zEh"
      },
      "execution_count": null,
      "outputs": []
    }
  ]
}